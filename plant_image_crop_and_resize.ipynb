{
  "nbformat": 4,
  "nbformat_minor": 0,
  "metadata": {
    "kernelspec": {
      "display_name": "Python 3",
      "language": "python",
      "name": "python3"
    },
    "language_info": {
      "codemirror_mode": {
        "name": "ipython",
        "version": 3
      },
      "file_extension": ".py",
      "mimetype": "text/x-python",
      "name": "python",
      "nbconvert_exporter": "python",
      "pygments_lexer": "ipython3",
      "version": "3.7.3"
    },
    "colab": {
      "name": "plant image crop and resize.ipynb",
      "provenance": []
    }
  },
  "cells": [
    {
      "cell_type": "markdown",
      "metadata": {
        "id": "LxUE7X2nArJ1"
      },
      "source": [
        "**Imported required modules**"
      ]
    },
    {
      "cell_type": "code",
      "metadata": {
        "id": "mhMV_cABAoFr"
      },
      "source": [
        "import cv2\n",
        "import os\n",
        "import random\n",
        "import matplotlib.pylab as plt\n",
        "from glob import glob\n",
        "import pandas as pd\n",
        "import numpy as np\n",
        "from tqdm import tqdm\n",
        "from sklearn.model_selection import train_test_split"
      ],
      "execution_count": null,
      "outputs": []
    },
    {
      "cell_type": "code",
      "metadata": {
        "id": "BsEH19MnAi4T",
        "outputId": "83cb6c10-3652-4399-adfb-032e15a8e59a"
      },
      "source": [
        "!pip install opencv-python\n"
      ],
      "execution_count": null,
      "outputs": [
        {
          "output_type": "stream",
          "text": [
            "Collecting opencv-python\n",
            "  Downloading opencv_python-4.5.3.56-cp37-cp37m-win_amd64.whl (34.9 MB)\n",
            "Requirement already satisfied: numpy>=1.14.5 in c:\\users\\sudipto\\anaconda3\\lib\\site-packages (from opencv-python) (1.19.5)\n",
            "Installing collected packages: opencv-python\n",
            "Successfully installed opencv-python-4.5.3.56\n"
          ],
          "name": "stdout"
        }
      ]
    },
    {
      "cell_type": "code",
      "metadata": {
        "id": "F3uosjvJAi4W"
      },
      "source": [
        "# F:/train\n",
        "PATH = os.path.abspath(os.path.join('F:', 'train'))\n",
        "\n",
        "# ../input/plant-pathology-2021-fgvc8/train_images\n",
        "#SOURCE_IMAGES = os.path.join(PATH, \"plant-pathology-2021-fgvc8\", \"train_images\")\n",
        "\n",
        "# ../input/sample/images/*.png\n",
        "images = glob(os.path.join(PATH, \"*.jpg\"))"
      ],
      "execution_count": null,
      "outputs": []
    },
    {
      "cell_type": "code",
      "metadata": {
        "id": "mR4JkHhWAi4X",
        "outputId": "616907be-20db-4583-c707-15ed89f1e074"
      },
      "source": [
        "images[0]"
      ],
      "execution_count": null,
      "outputs": [
        {
          "output_type": "execute_result",
          "data": {
            "text/plain": [
              "'F:\\\\train\\\\800113bb65efe69e.jpg'"
            ]
          },
          "metadata": {
            "tags": []
          },
          "execution_count": 4
        }
      ]
    },
    {
      "cell_type": "markdown",
      "metadata": {
        "id": "vc8r-THOA7AF"
      },
      "source": [
        "**Function for crop and resizing the images**"
      ]
    },
    {
      "cell_type": "code",
      "metadata": {
        "id": "Zi_Z8P6iAi4Z"
      },
      "source": [
        "def proc_images():\n",
        "    \"\"\"\n",
        "    Returns one array: \n",
        "        x is an array of resized images\n",
        "       \n",
        "    \"\"\"\n",
        "    \n",
        "    \n",
        "\n",
        "    x = [] # images as arrays\n",
        "   \n",
        "    WIDTH = 100\n",
        "    HEIGHT = 100\n",
        "\n",
        "    for img in tqdm(images):\n",
        "        base = os.path.basename(img)\n",
        "       \n",
        "\n",
        "        # Read crop and resize image\n",
        "        full_size_image = cv2.imread(img)\n",
        "        crop_img = full_size_image[500:-500, 500:-500,:]\n",
        "        \n",
        "        x.append(cv2.resize(crop_img, (WIDTH,HEIGHT), interpolation=cv2.INTER_CUBIC))\n",
        "\n",
        "\n",
        "    return x"
      ],
      "execution_count": null,
      "outputs": []
    },
    {
      "cell_type": "markdown",
      "metadata": {
        "id": "wH7X2k1gBOgO"
      },
      "source": [
        "**Calling the function and storing the list in X**"
      ]
    },
    {
      "cell_type": "code",
      "metadata": {
        "id": "r3Mq1HQwAi4a",
        "outputId": "ae41fee7-b210-45a8-ecaa-0a0d66eaa2be"
      },
      "source": [
        "X=proc_images()"
      ],
      "execution_count": null,
      "outputs": [
        {
          "output_type": "stream",
          "text": [
            "100%|██████████| 18632/18632 [56:47<00:00,  5.75it/s] \n"
          ],
          "name": "stderr"
        }
      ]
    },
    {
      "cell_type": "code",
      "metadata": {
        "id": "I6-B2POvAi4c"
      },
      "source": [
        "X=np.asarray(X)"
      ],
      "execution_count": null,
      "outputs": []
    },
    {
      "cell_type": "code",
      "metadata": {
        "id": "6UfvVLeFAi4d",
        "outputId": "beeb64c4-d97d-420b-ba68-5382ca5a658a"
      },
      "source": [
        "X.shape"
      ],
      "execution_count": null,
      "outputs": [
        {
          "output_type": "execute_result",
          "data": {
            "text/plain": [
              "(18632, 100, 100, 3)"
            ]
          },
          "metadata": {
            "tags": []
          },
          "execution_count": 9
        }
      ]
    },
    {
      "cell_type": "markdown",
      "metadata": {
        "id": "Fp2PveqWBeW7"
      },
      "source": [
        "As we can see from shape of X it is 4 dimensional array of (18632,100,100,3). So, to store it in a pandas dataframe  we need to reduce the dimension.For this we used ravel() for converting X into an 1 dimensional array and store it in a."
      ]
    },
    {
      "cell_type": "code",
      "metadata": {
        "id": "yJoorHO1Ai4f"
      },
      "source": [
        "a=X.ravel()"
      ],
      "execution_count": null,
      "outputs": []
    },
    {
      "cell_type": "code",
      "metadata": {
        "id": "tb4GimtsAi4h"
      },
      "source": [
        "df=pd.DataFrame(a)"
      ],
      "execution_count": null,
      "outputs": []
    },
    {
      "cell_type": "markdown",
      "metadata": {
        "id": "8aR1F-YfCQ3-"
      },
      "source": [
        "Now we are saving the dataframe of image in a .csv file for further processing"
      ]
    },
    {
      "cell_type": "code",
      "metadata": {
        "id": "Y-VeN5ZMAi4i"
      },
      "source": [
        "df.to_csv('F:/img.csv',index=False)"
      ],
      "execution_count": null,
      "outputs": []
    }
  ]
}