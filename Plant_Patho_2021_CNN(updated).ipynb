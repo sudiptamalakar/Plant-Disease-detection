{
  "nbformat": 4,
  "nbformat_minor": 0,
  "metadata": {
    "kernelspec": {
      "language": "python",
      "display_name": "Python 3",
      "name": "python3"
    },
    "language_info": {
      "name": "python",
      "version": "3.7.10",
      "mimetype": "text/x-python",
      "codemirror_mode": {
        "name": "ipython",
        "version": 3
      },
      "pygments_lexer": "ipython3",
      "nbconvert_exporter": "python",
      "file_extension": ".py"
    },
    "colab": {
      "name": "Plant_Patho_2021_CNN(updated).ipynb",
      "provenance": []
    }
  },
  "cells": [
    {
      "cell_type": "markdown",
      "metadata": {
        "id": "qfxZBVHGgfC_"
      },
      "source": [
        "\n",
        "Downloading the preprocessed .csv file of images from google drive"
      ]
    },
    {
      "cell_type": "code",
      "metadata": {
        "execution": {
          "iopub.status.busy": "2021-08-07T10:43:42.200537Z",
          "iopub.execute_input": "2021-08-07T10:43:42.201007Z",
          "iopub.status.idle": "2021-08-07T10:44:04.498740Z",
          "shell.execute_reply.started": "2021-08-07T10:43:42.200917Z",
          "shell.execute_reply": "2021-08-07T10:44:04.497502Z"
        },
        "trusted": true,
        "id": "6AaBmHOufWIZ",
        "outputId": "b3b27b20-d0af-4952-f8f6-78968260d01b"
      },
      "source": [
        "! pip install gdown"
      ],
      "execution_count": null,
      "outputs": [
        {
          "output_type": "stream",
          "text": [
            "Collecting gdown\n",
            "  Downloading gdown-3.13.0.tar.gz (9.3 kB)\n",
            "  Installing build dependencies ... \u001b[?25ldone\n",
            "\u001b[?25h  Getting requirements to build wheel ... \u001b[?25ldone\n",
            "\u001b[?25h    Preparing wheel metadata ... \u001b[?25ldone\n",
            "\u001b[?25hRequirement already satisfied: requests[socks]>=2.12.0 in /opt/conda/lib/python3.7/site-packages (from gdown) (2.25.1)\n",
            "Requirement already satisfied: tqdm in /opt/conda/lib/python3.7/site-packages (from gdown) (4.61.1)\n",
            "Requirement already satisfied: six in /opt/conda/lib/python3.7/site-packages (from gdown) (1.15.0)\n",
            "Requirement already satisfied: filelock in /opt/conda/lib/python3.7/site-packages (from gdown) (3.0.12)\n",
            "Requirement already satisfied: idna<3,>=2.5 in /opt/conda/lib/python3.7/site-packages (from requests[socks]>=2.12.0->gdown) (2.10)\n",
            "Requirement already satisfied: urllib3<1.27,>=1.21.1 in /opt/conda/lib/python3.7/site-packages (from requests[socks]>=2.12.0->gdown) (1.26.5)\n",
            "Requirement already satisfied: chardet<5,>=3.0.2 in /opt/conda/lib/python3.7/site-packages (from requests[socks]>=2.12.0->gdown) (4.0.0)\n",
            "Requirement already satisfied: certifi>=2017.4.17 in /opt/conda/lib/python3.7/site-packages (from requests[socks]>=2.12.0->gdown) (2021.5.30)\n",
            "Requirement already satisfied: PySocks!=1.5.7,>=1.5.6 in /opt/conda/lib/python3.7/site-packages (from requests[socks]>=2.12.0->gdown) (1.7.1)\n",
            "Building wheels for collected packages: gdown\n",
            "  Building wheel for gdown (PEP 517) ... \u001b[?25ldone\n",
            "\u001b[?25h  Created wheel for gdown: filename=gdown-3.13.0-py3-none-any.whl size=9034 sha256=3d837f1400ca0766401874a8db470cab4270ef82ddc51093b7a00503ae716034\n",
            "  Stored in directory: /root/.cache/pip/wheels/2f/2a/2f/86449b6bdbaa9aef873f68332b68be6bfbc386b9219f47157d\n",
            "Successfully built gdown\n",
            "Installing collected packages: gdown\n",
            "Successfully installed gdown-3.13.0\n",
            "\u001b[33mWARNING: Running pip as root will break packages and permissions. You should install packages reliably by using venv: https://pip.pypa.io/warnings/venv\u001b[0m\n"
          ],
          "name": "stdout"
        }
      ]
    },
    {
      "cell_type": "code",
      "metadata": {
        "execution": {
          "iopub.status.busy": "2021-08-07T10:44:04.503034Z",
          "iopub.execute_input": "2021-08-07T10:44:04.503361Z",
          "iopub.status.idle": "2021-08-07T10:44:20.645145Z",
          "shell.execute_reply.started": "2021-08-07T10:44:04.503326Z",
          "shell.execute_reply": "2021-08-07T10:44:20.643771Z"
        },
        "trusted": true,
        "id": "bzN9lE_tfWId",
        "outputId": "79225aff-abf3-4583-da74-ee52afcddb34"
      },
      "source": [
        "import gdown; url = 'https://drive.google.com/uc?export=download&id=1lF-Y3XE-Cp2LacG8HDXLU8OWYE84x9dw' \n",
        "output = 'img.csv' \n",
        "gdown.download(url, output, quiet=False)\n"
      ],
      "execution_count": null,
      "outputs": [
        {
          "output_type": "stream",
          "text": [
            "Downloading...\n",
            "From: https://drive.google.com/uc?export=download&id=1lF-Y3XE-Cp2LacG8HDXLU8OWYE84x9dw\n",
            "To: /kaggle/working/img.csv\n",
            "2.63GB [00:13, 192MB/s] \n"
          ],
          "name": "stderr"
        },
        {
          "output_type": "execute_result",
          "data": {
            "text/plain": [
              "'img.csv'"
            ]
          },
          "metadata": {
            "tags": []
          },
          "execution_count": 2
        }
      ]
    },
    {
      "cell_type": "markdown",
      "metadata": {
        "id": "1-9zaFhbfWIg"
      },
      "source": [
        "Importing the required modules"
      ]
    },
    {
      "cell_type": "code",
      "metadata": {
        "execution": {
          "iopub.status.busy": "2021-08-07T10:44:20.647637Z",
          "iopub.execute_input": "2021-08-07T10:44:20.648141Z",
          "iopub.status.idle": "2021-08-07T10:44:27.256982Z",
          "shell.execute_reply.started": "2021-08-07T10:44:20.648085Z",
          "shell.execute_reply": "2021-08-07T10:44:27.255898Z"
        },
        "trusted": true,
        "id": "XG-fDDwSfWIh"
      },
      "source": [
        "import keras\n",
        "from keras.models import Sequential\n",
        "from keras.layers import Dense, Dropout, Flatten\n",
        "from keras.layers import Conv2D, MaxPooling2D\n",
        "from keras.utils import to_categorical\n",
        "from keras.preprocessing import image\n",
        "import numpy as np\n",
        "import pandas as pd\n",
        "import matplotlib.pyplot as plt\n",
        "from sklearn.model_selection import train_test_split\n",
        "# from tqdm import tqdm\n",
        "import tensorflow as tf\n",
        "%matplotlib inline"
      ],
      "execution_count": null,
      "outputs": []
    },
    {
      "cell_type": "markdown",
      "metadata": {
        "id": "kvMFLX0xgpgk"
      },
      "source": [
        "\n",
        "Reading the .csv into dataframe and normlizing it by dividing it by 255"
      ]
    },
    {
      "cell_type": "code",
      "metadata": {
        "execution": {
          "iopub.status.busy": "2021-08-07T10:44:27.258899Z",
          "iopub.execute_input": "2021-08-07T10:44:27.259358Z",
          "iopub.status.idle": "2021-08-07T10:45:27.504058Z",
          "shell.execute_reply.started": "2021-08-07T10:44:27.259326Z",
          "shell.execute_reply": "2021-08-07T10:45:27.502916Z"
        },
        "trusted": true,
        "id": "Lzodp68nfWIi"
      },
      "source": [
        "df=pd.read_csv('img.csv')"
      ],
      "execution_count": null,
      "outputs": []
    },
    {
      "cell_type": "code",
      "metadata": {
        "execution": {
          "iopub.status.busy": "2021-08-07T10:45:27.505778Z",
          "iopub.execute_input": "2021-08-07T10:45:27.506251Z",
          "iopub.status.idle": "2021-08-07T10:45:30.198001Z",
          "shell.execute_reply.started": "2021-08-07T10:45:27.506195Z",
          "shell.execute_reply": "2021-08-07T10:45:30.196770Z"
        },
        "trusted": true,
        "id": "FDDm4pOpfWIk"
      },
      "source": [
        "df=df/255"
      ],
      "execution_count": null,
      "outputs": []
    },
    {
      "cell_type": "markdown",
      "metadata": {
        "id": "GWL3OD_Tgs7W"
      },
      "source": [
        "storing the images as numpy array reshaping it"
      ]
    },
    {
      "cell_type": "code",
      "metadata": {
        "execution": {
          "iopub.status.busy": "2021-08-07T10:45:30.201812Z",
          "iopub.execute_input": "2021-08-07T10:45:30.202144Z",
          "iopub.status.idle": "2021-08-07T10:45:30.207331Z",
          "shell.execute_reply.started": "2021-08-07T10:45:30.202113Z",
          "shell.execute_reply": "2021-08-07T10:45:30.206064Z"
        },
        "trusted": true,
        "id": "zMzOQlh6fWIm"
      },
      "source": [
        "X=np.asarray(df)\n",
        "X=X.reshape(18632,100,100,3)"
      ],
      "execution_count": null,
      "outputs": []
    },
    {
      "cell_type": "markdown",
      "metadata": {
        "id": "k7d64mKvgwVe"
      },
      "source": [
        "\n",
        "Reading the training .csv"
      ]
    },
    {
      "cell_type": "code",
      "metadata": {
        "execution": {
          "iopub.status.busy": "2021-08-07T10:45:30.208982Z",
          "iopub.execute_input": "2021-08-07T10:45:30.209714Z",
          "iopub.status.idle": "2021-08-07T10:45:30.243874Z",
          "shell.execute_reply.started": "2021-08-07T10:45:30.209669Z",
          "shell.execute_reply": "2021-08-07T10:45:30.242891Z"
        },
        "trusted": true,
        "id": "qNUMT5zZfWIw"
      },
      "source": [
        "df_train=pd.read_csv('../input/plant-pathology-2021-fgvc8/train.csv')"
      ],
      "execution_count": null,
      "outputs": []
    },
    {
      "cell_type": "markdown",
      "metadata": {
        "id": "X3pHFeJ0gziR"
      },
      "source": [
        "**Splitting the labels into 6 classes and encoding it**"
      ]
    },
    {
      "cell_type": "code",
      "metadata": {
        "execution": {
          "iopub.status.busy": "2021-08-07T10:45:30.247375Z",
          "iopub.execute_input": "2021-08-07T10:45:30.247794Z",
          "iopub.status.idle": "2021-08-07T10:45:30.276334Z",
          "shell.execute_reply.started": "2021-08-07T10:45:30.247753Z",
          "shell.execute_reply": "2021-08-07T10:45:30.274426Z"
        },
        "trusted": true,
        "id": "2CQLvadPfWIw"
      },
      "source": [
        "df_train[\"labels\"]=df_train[\"labels\"].apply(lambda x:x.split(\" \"))"
      ],
      "execution_count": null,
      "outputs": []
    },
    {
      "cell_type": "code",
      "metadata": {
        "execution": {
          "iopub.status.busy": "2021-08-07T10:45:30.278584Z",
          "iopub.execute_input": "2021-08-07T10:45:30.279084Z",
          "iopub.status.idle": "2021-08-07T10:45:30.292757Z",
          "shell.execute_reply.started": "2021-08-07T10:45:30.279036Z",
          "shell.execute_reply": "2021-08-07T10:45:30.291496Z"
        },
        "trusted": true,
        "id": "fFYLCSvjfWIx"
      },
      "source": [
        "df_train['healthy']=0\n",
        "df_train['scab']=0\n",
        "df_train['complex']=0\n",
        "df_train['rust']=0\n",
        "df_train['frog_eye_leaf_spot']=0\n",
        "df_train['powdery_mildew']=0\n"
      ],
      "execution_count": null,
      "outputs": []
    },
    {
      "cell_type": "code",
      "metadata": {
        "execution": {
          "iopub.status.busy": "2021-08-07T10:45:30.294254Z",
          "iopub.execute_input": "2021-08-07T10:45:30.294996Z",
          "iopub.status.idle": "2021-08-07T10:45:42.420889Z",
          "shell.execute_reply.started": "2021-08-07T10:45:30.294944Z",
          "shell.execute_reply": "2021-08-07T10:45:42.419650Z"
        },
        "trusted": true,
        "id": "b2EwXZ2ofWIx",
        "outputId": "a1deac89-1f5a-4277-9d30-794f10125240"
      },
      "source": [
        "for rown in range(0,len(df_train['labels'])):\n",
        "    for i in df_train['labels'][rown]:\n",
        "        if i == 'healthy':\n",
        "            df_train['healthy'][rown]=1\n",
        "        elif i == 'scab':\n",
        "            df_train['scab'][rown]=1\n",
        "        elif i == 'complex':\n",
        "            df_train['complex'][rown]=1\n",
        "        elif i == 'rust':\n",
        "            df_train['rust'][rown]=1\n",
        "        elif i == 'frog_eye_leaf_spot':\n",
        "            df_train['frog_eye_leaf_spot'][rown]=1\n",
        "        elif i == 'powdery_mildew':\n",
        "            df_train['powdery_mildew'][rown]=1"
      ],
      "execution_count": null,
      "outputs": [
        {
          "output_type": "stream",
          "text": [
            "/opt/conda/lib/python3.7/site-packages/ipykernel_launcher.py:4: SettingWithCopyWarning: \n",
            "A value is trying to be set on a copy of a slice from a DataFrame\n",
            "\n",
            "See the caveats in the documentation: https://pandas.pydata.org/pandas-docs/stable/user_guide/indexing.html#returning-a-view-versus-a-copy\n",
            "  after removing the cwd from sys.path.\n",
            "/opt/conda/lib/python3.7/site-packages/ipykernel_launcher.py:6: SettingWithCopyWarning: \n",
            "A value is trying to be set on a copy of a slice from a DataFrame\n",
            "\n",
            "See the caveats in the documentation: https://pandas.pydata.org/pandas-docs/stable/user_guide/indexing.html#returning-a-view-versus-a-copy\n",
            "  \n",
            "/opt/conda/lib/python3.7/site-packages/ipykernel_launcher.py:12: SettingWithCopyWarning: \n",
            "A value is trying to be set on a copy of a slice from a DataFrame\n",
            "\n",
            "See the caveats in the documentation: https://pandas.pydata.org/pandas-docs/stable/user_guide/indexing.html#returning-a-view-versus-a-copy\n",
            "  if sys.path[0] == '':\n",
            "/opt/conda/lib/python3.7/site-packages/ipykernel_launcher.py:8: SettingWithCopyWarning: \n",
            "A value is trying to be set on a copy of a slice from a DataFrame\n",
            "\n",
            "See the caveats in the documentation: https://pandas.pydata.org/pandas-docs/stable/user_guide/indexing.html#returning-a-view-versus-a-copy\n",
            "  \n",
            "/opt/conda/lib/python3.7/site-packages/ipykernel_launcher.py:10: SettingWithCopyWarning: \n",
            "A value is trying to be set on a copy of a slice from a DataFrame\n",
            "\n",
            "See the caveats in the documentation: https://pandas.pydata.org/pandas-docs/stable/user_guide/indexing.html#returning-a-view-versus-a-copy\n",
            "  # Remove the CWD from sys.path while we load stuff.\n",
            "/opt/conda/lib/python3.7/site-packages/ipykernel_launcher.py:14: SettingWithCopyWarning: \n",
            "A value is trying to be set on a copy of a slice from a DataFrame\n",
            "\n",
            "See the caveats in the documentation: https://pandas.pydata.org/pandas-docs/stable/user_guide/indexing.html#returning-a-view-versus-a-copy\n",
            "  \n"
          ],
          "name": "stderr"
        }
      ]
    },
    {
      "cell_type": "code",
      "metadata": {
        "execution": {
          "iopub.status.busy": "2021-08-07T10:45:42.426419Z",
          "iopub.execute_input": "2021-08-07T10:45:42.429119Z",
          "iopub.status.idle": "2021-08-07T10:45:42.444248Z",
          "shell.execute_reply.started": "2021-08-07T10:45:42.429077Z",
          "shell.execute_reply": "2021-08-07T10:45:42.443157Z"
        },
        "trusted": true,
        "id": "zs003YPCfWI1"
      },
      "source": [
        "y=np.asarray(df_train[['healthy','scab','complex','rust','frog_eye_leaf_spot','powdery_mildew']])"
      ],
      "execution_count": null,
      "outputs": []
    },
    {
      "cell_type": "code",
      "metadata": {
        "execution": {
          "iopub.status.busy": "2021-08-07T10:06:23.441967Z",
          "iopub.execute_input": "2021-08-07T10:06:23.442751Z",
          "iopub.status.idle": "2021-08-07T10:06:23.450561Z",
          "shell.execute_reply.started": "2021-08-07T10:06:23.442707Z",
          "shell.execute_reply": "2021-08-07T10:06:23.449167Z"
        },
        "trusted": true,
        "id": "0r2w6KTRfWI2",
        "outputId": "67ba6684-4703-4685-ee78-96e6ff0b3fc1"
      },
      "source": [
        "y"
      ],
      "execution_count": null,
      "outputs": [
        {
          "output_type": "execute_result",
          "data": {
            "text/plain": [
              "array([[1, 0, 0, 0, 0, 0],\n",
              "       [0, 1, 1, 0, 1, 0],\n",
              "       [0, 1, 0, 0, 0, 0],\n",
              "       ...,\n",
              "       [0, 0, 0, 1, 0, 0],\n",
              "       [0, 1, 0, 0, 1, 0],\n",
              "       [1, 0, 0, 0, 0, 0]])"
            ]
          },
          "metadata": {
            "tags": []
          },
          "execution_count": 13
        }
      ]
    },
    {
      "cell_type": "code",
      "metadata": {
        "execution": {
          "iopub.status.busy": "2021-08-07T10:45:42.450005Z",
          "iopub.execute_input": "2021-08-07T10:45:42.452500Z",
          "iopub.status.idle": "2021-08-07T10:45:44.290764Z",
          "shell.execute_reply.started": "2021-08-07T10:45:42.452457Z",
          "shell.execute_reply": "2021-08-07T10:45:44.289664Z"
        },
        "trusted": true,
        "id": "SPchzEI6fWI2"
      },
      "source": [
        "X_train, X_test, y_train, y_test = train_test_split(X, y,  test_size=0.2,random_state=42)"
      ],
      "execution_count": null,
      "outputs": []
    },
    {
      "cell_type": "markdown",
      "metadata": {
        "id": "tDsKYs2XhBor"
      },
      "source": [
        "\n",
        "Creating the Architecture of CNN"
      ]
    },
    {
      "cell_type": "code",
      "metadata": {
        "execution": {
          "iopub.status.busy": "2021-08-07T10:45:44.292287Z",
          "iopub.execute_input": "2021-08-07T10:45:44.292849Z",
          "iopub.status.idle": "2021-08-07T10:45:46.819683Z",
          "shell.execute_reply.started": "2021-08-07T10:45:44.292785Z",
          "shell.execute_reply": "2021-08-07T10:45:46.818668Z"
        },
        "trusted": true,
        "id": "qPDydrcafWI2"
      },
      "source": [
        "model = Sequential()\n",
        "model.add(Conv2D(filters=512, kernel_size=(5, 5), activation=\"relu\", input_shape=(100,100,3)))\n",
        "model.add(MaxPooling2D(pool_size=(2, 2)))\n",
        "model.add(Dropout(0.25))\n",
        "model.add(Conv2D(filters=256, kernel_size=(5, 5), activation='relu'))\n",
        "model.add(MaxPooling2D(pool_size=(2, 2)))\n",
        "model.add(Dropout(0.25))\n",
        "model.add(Conv2D(filters=64, kernel_size=(5, 5), activation=\"relu\"))\n",
        "model.add(MaxPooling2D(pool_size=(2, 2)))\n",
        "model.add(Dropout(0.25))\n",
        "model.add(Conv2D(filters=64, kernel_size=(5, 5), activation='relu'))\n",
        "model.add(MaxPooling2D(pool_size=(2, 2)))\n",
        "model.add(Dropout(0.25))\n",
        "model.add(Flatten())\n",
        "model.add(Dense(128, activation='relu'))\n",
        "model.add(Dropout(0.5))\n",
        "model.add(Dense(64, activation='relu'))\n",
        "model.add(Dropout(0.5))\n",
        "model.add(Dense(6, activation='sigmoid'))"
      ],
      "execution_count": null,
      "outputs": []
    },
    {
      "cell_type": "code",
      "metadata": {
        "execution": {
          "iopub.status.busy": "2021-08-05T10:12:15.806695Z",
          "iopub.execute_input": "2021-08-05T10:12:15.807133Z",
          "iopub.status.idle": "2021-08-05T10:12:15.827144Z",
          "shell.execute_reply.started": "2021-08-05T10:12:15.807085Z",
          "shell.execute_reply": "2021-08-05T10:12:15.826021Z"
        },
        "trusted": true,
        "id": "LC7qTXzKfWI3"
      },
      "source": [
        "model.summary()"
      ],
      "execution_count": null,
      "outputs": []
    },
    {
      "cell_type": "code",
      "metadata": {
        "execution": {
          "iopub.status.busy": "2021-08-04T12:41:19.568127Z",
          "iopub.execute_input": "2021-08-04T12:41:19.568447Z",
          "iopub.status.idle": "2021-08-04T12:41:19.587856Z",
          "shell.execute_reply.started": "2021-08-04T12:41:19.568417Z",
          "shell.execute_reply": "2021-08-04T12:41:19.586831Z"
        },
        "trusted": true,
        "id": "t-W2oh-RfWI7"
      },
      "source": [
        "model.compile(optimizer=tf.keras.optimizers.Adam(learning_rate=0.0001),\n",
        "                loss=\"binary_crossentropy\",\n",
        "                metrics=['accuracy'])"
      ],
      "execution_count": null,
      "outputs": []
    },
    {
      "cell_type": "markdown",
      "metadata": {
        "id": "u2lbxTeyhFsS"
      },
      "source": [
        "\n",
        "Training the model"
      ]
    },
    {
      "cell_type": "code",
      "metadata": {
        "execution": {
          "iopub.status.busy": "2021-08-07T10:46:00.173088Z",
          "iopub.execute_input": "2021-08-07T10:46:00.173451Z",
          "iopub.status.idle": "2021-08-07T11:14:21.390962Z",
          "shell.execute_reply.started": "2021-08-07T10:46:00.173419Z",
          "shell.execute_reply": "2021-08-07T11:14:21.389887Z"
        },
        "trusted": true,
        "id": "hrFEXigpfWI7",
        "outputId": "12bbef90-bb99-4134-9d94-3dd4f2fb2a01"
      },
      "source": [
        "model.fit(X_train, y_train, epochs=50, validation_data=(X_test, y_test), batch_size=50)\n"
      ],
      "execution_count": null,
      "outputs": [
        {
          "output_type": "stream",
          "text": [
            "Epoch 1/50\n",
            "299/299 [==============================] - 49s 131ms/step - loss: 0.5893 - accuracy: 0.1876 - val_loss: 0.5105 - val_accuracy: 0.2984\n",
            "Epoch 2/50\n",
            "299/299 [==============================] - 34s 113ms/step - loss: 0.4925 - accuracy: 0.2447 - val_loss: 0.4528 - val_accuracy: 0.3094\n",
            "Epoch 3/50\n",
            "299/299 [==============================] - 34s 113ms/step - loss: 0.4676 - accuracy: 0.2813 - val_loss: 0.4666 - val_accuracy: 0.3762\n",
            "Epoch 4/50\n",
            "299/299 [==============================] - 34s 113ms/step - loss: 0.4560 - accuracy: 0.2999 - val_loss: 0.4313 - val_accuracy: 0.3872\n",
            "Epoch 5/50\n",
            "299/299 [==============================] - 34s 113ms/step - loss: 0.4430 - accuracy: 0.3266 - val_loss: 0.4239 - val_accuracy: 0.4060\n",
            "Epoch 6/50\n",
            "299/299 [==============================] - 34s 112ms/step - loss: 0.4355 - accuracy: 0.3444 - val_loss: 0.4214 - val_accuracy: 0.4245\n",
            "Epoch 7/50\n",
            "299/299 [==============================] - 34s 113ms/step - loss: 0.4276 - accuracy: 0.3582 - val_loss: 0.4030 - val_accuracy: 0.4360\n",
            "Epoch 8/50\n",
            "299/299 [==============================] - 34s 113ms/step - loss: 0.4198 - accuracy: 0.3816 - val_loss: 0.4027 - val_accuracy: 0.4451\n",
            "Epoch 9/50\n",
            "299/299 [==============================] - 34s 113ms/step - loss: 0.4066 - accuracy: 0.4081 - val_loss: 0.3807 - val_accuracy: 0.4789\n",
            "Epoch 10/50\n",
            "299/299 [==============================] - 34s 112ms/step - loss: 0.3970 - accuracy: 0.4261 - val_loss: 0.3735 - val_accuracy: 0.4730\n",
            "Epoch 11/50\n",
            "299/299 [==============================] - 34s 112ms/step - loss: 0.3865 - accuracy: 0.4548 - val_loss: 0.3638 - val_accuracy: 0.4999\n",
            "Epoch 12/50\n",
            "299/299 [==============================] - 34s 112ms/step - loss: 0.3743 - accuracy: 0.4878 - val_loss: 0.3435 - val_accuracy: 0.5275\n",
            "Epoch 13/50\n",
            "299/299 [==============================] - 34s 112ms/step - loss: 0.3600 - accuracy: 0.5008 - val_loss: 0.3340 - val_accuracy: 0.5624\n",
            "Epoch 14/50\n",
            "299/299 [==============================] - 34s 112ms/step - loss: 0.3461 - accuracy: 0.5387 - val_loss: 0.3208 - val_accuracy: 0.5514\n",
            "Epoch 15/50\n",
            "299/299 [==============================] - 34s 112ms/step - loss: 0.3361 - accuracy: 0.5648 - val_loss: 0.2883 - val_accuracy: 0.6383\n",
            "Epoch 16/50\n",
            "299/299 [==============================] - 34s 113ms/step - loss: 0.3233 - accuracy: 0.5835 - val_loss: 0.3050 - val_accuracy: 0.5908\n",
            "Epoch 17/50\n",
            "299/299 [==============================] - 34s 113ms/step - loss: 0.3076 - accuracy: 0.6099 - val_loss: 0.2780 - val_accuracy: 0.6456\n",
            "Epoch 18/50\n",
            "299/299 [==============================] - 34s 112ms/step - loss: 0.2992 - accuracy: 0.6397 - val_loss: 0.2553 - val_accuracy: 0.6949\n",
            "Epoch 19/50\n",
            "299/299 [==============================] - 34s 113ms/step - loss: 0.2877 - accuracy: 0.6588 - val_loss: 0.2572 - val_accuracy: 0.6657\n",
            "Epoch 20/50\n",
            "299/299 [==============================] - 34s 112ms/step - loss: 0.2776 - accuracy: 0.6687 - val_loss: 0.2497 - val_accuracy: 0.6906\n",
            "Epoch 21/50\n",
            "299/299 [==============================] - 34s 113ms/step - loss: 0.2722 - accuracy: 0.6765 - val_loss: 0.2368 - val_accuracy: 0.7043\n",
            "Epoch 22/50\n",
            "299/299 [==============================] - 34s 113ms/step - loss: 0.2669 - accuracy: 0.6892 - val_loss: 0.2637 - val_accuracy: 0.6662\n",
            "Epoch 23/50\n",
            "299/299 [==============================] - 34s 113ms/step - loss: 0.2634 - accuracy: 0.6904 - val_loss: 0.2273 - val_accuracy: 0.7185\n",
            "Epoch 24/50\n",
            "299/299 [==============================] - 34s 113ms/step - loss: 0.2465 - accuracy: 0.7172 - val_loss: 0.2163 - val_accuracy: 0.7381\n",
            "Epoch 25/50\n",
            "299/299 [==============================] - 34s 112ms/step - loss: 0.2445 - accuracy: 0.7225 - val_loss: 0.2083 - val_accuracy: 0.7529\n",
            "Epoch 26/50\n",
            "299/299 [==============================] - 34s 112ms/step - loss: 0.2396 - accuracy: 0.7255 - val_loss: 0.2116 - val_accuracy: 0.7435\n",
            "Epoch 27/50\n",
            "299/299 [==============================] - 34s 112ms/step - loss: 0.2325 - accuracy: 0.7306 - val_loss: 0.2061 - val_accuracy: 0.7456\n",
            "Epoch 28/50\n",
            "299/299 [==============================] - 34s 112ms/step - loss: 0.2320 - accuracy: 0.7405 - val_loss: 0.2150 - val_accuracy: 0.7312\n",
            "Epoch 29/50\n",
            "299/299 [==============================] - 34s 112ms/step - loss: 0.2230 - accuracy: 0.7518 - val_loss: 0.2071 - val_accuracy: 0.7591\n",
            "Epoch 30/50\n",
            "299/299 [==============================] - 34s 112ms/step - loss: 0.2232 - accuracy: 0.7512 - val_loss: 0.2076 - val_accuracy: 0.7518\n",
            "Epoch 31/50\n",
            "299/299 [==============================] - 34s 112ms/step - loss: 0.2134 - accuracy: 0.7620 - val_loss: 0.1922 - val_accuracy: 0.7776\n",
            "Epoch 32/50\n",
            "299/299 [==============================] - 34s 112ms/step - loss: 0.2141 - accuracy: 0.7636 - val_loss: 0.1969 - val_accuracy: 0.7754\n",
            "Epoch 33/50\n",
            "299/299 [==============================] - 34s 112ms/step - loss: 0.2104 - accuracy: 0.7641 - val_loss: 0.1928 - val_accuracy: 0.7813\n",
            "Epoch 34/50\n",
            "299/299 [==============================] - 34s 112ms/step - loss: 0.2078 - accuracy: 0.7681 - val_loss: 0.1889 - val_accuracy: 0.7778\n",
            "Epoch 35/50\n",
            "299/299 [==============================] - 34s 112ms/step - loss: 0.2019 - accuracy: 0.7758 - val_loss: 0.1810 - val_accuracy: 0.7947\n",
            "Epoch 36/50\n",
            "299/299 [==============================] - 34s 113ms/step - loss: 0.1965 - accuracy: 0.7843 - val_loss: 0.1859 - val_accuracy: 0.7848\n",
            "Epoch 37/50\n",
            "299/299 [==============================] - 34s 112ms/step - loss: 0.2008 - accuracy: 0.7781 - val_loss: 0.1769 - val_accuracy: 0.7993\n",
            "Epoch 38/50\n",
            "299/299 [==============================] - 34s 112ms/step - loss: 0.1953 - accuracy: 0.7857 - val_loss: 0.1985 - val_accuracy: 0.7778\n",
            "Epoch 39/50\n",
            "299/299 [==============================] - 34s 113ms/step - loss: 0.1917 - accuracy: 0.7945 - val_loss: 0.1786 - val_accuracy: 0.7907\n",
            "Epoch 40/50\n",
            "299/299 [==============================] - 34s 112ms/step - loss: 0.1898 - accuracy: 0.7921 - val_loss: 0.2175 - val_accuracy: 0.7566\n",
            "Epoch 41/50\n",
            "299/299 [==============================] - 34s 112ms/step - loss: 0.1914 - accuracy: 0.7911 - val_loss: 0.1823 - val_accuracy: 0.7998\n",
            "Epoch 42/50\n",
            "299/299 [==============================] - 34s 113ms/step - loss: 0.1821 - accuracy: 0.7961 - val_loss: 0.2044 - val_accuracy: 0.7556\n",
            "Epoch 43/50\n",
            "299/299 [==============================] - 34s 112ms/step - loss: 0.1792 - accuracy: 0.8047 - val_loss: 0.1764 - val_accuracy: 0.8028\n",
            "Epoch 44/50\n",
            "299/299 [==============================] - 34s 113ms/step - loss: 0.1757 - accuracy: 0.8093 - val_loss: 0.1865 - val_accuracy: 0.7864\n",
            "Epoch 45/50\n",
            "299/299 [==============================] - 34s 112ms/step - loss: 0.1738 - accuracy: 0.8143 - val_loss: 0.1811 - val_accuracy: 0.7953\n",
            "Epoch 46/50\n",
            "299/299 [==============================] - 34s 112ms/step - loss: 0.1818 - accuracy: 0.7979 - val_loss: 0.1713 - val_accuracy: 0.7980\n",
            "Epoch 47/50\n",
            "299/299 [==============================] - 34s 113ms/step - loss: 0.1670 - accuracy: 0.8211 - val_loss: 0.1869 - val_accuracy: 0.7888\n",
            "Epoch 48/50\n",
            "299/299 [==============================] - 34s 112ms/step - loss: 0.1692 - accuracy: 0.8159 - val_loss: 0.1791 - val_accuracy: 0.7937\n",
            "Epoch 49/50\n",
            "299/299 [==============================] - 34s 112ms/step - loss: 0.1655 - accuracy: 0.8265 - val_loss: 0.1675 - val_accuracy: 0.8084\n",
            "Epoch 50/50\n",
            "299/299 [==============================] - 34s 112ms/step - loss: 0.1658 - accuracy: 0.8190 - val_loss: 0.1752 - val_accuracy: 0.8009\n"
          ],
          "name": "stdout"
        },
        {
          "output_type": "execute_result",
          "data": {
            "text/plain": [
              "<tensorflow.python.keras.callbacks.History at 0x7fee40455990>"
            ]
          },
          "metadata": {
            "tags": []
          },
          "execution_count": 15
        }
      ]
    }
  ]
}