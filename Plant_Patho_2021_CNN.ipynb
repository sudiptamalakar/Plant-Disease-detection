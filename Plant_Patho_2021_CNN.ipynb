{
  "nbformat": 4,
  "nbformat_minor": 0,
  "metadata": {
    "kernelspec": {
      "language": "python",
      "display_name": "Python 3",
      "name": "python3"
    },
    "language_info": {
      "name": "python",
      "version": "3.7.10",
      "mimetype": "text/x-python",
      "codemirror_mode": {
        "name": "ipython",
        "version": 3
      },
      "pygments_lexer": "ipython3",
      "nbconvert_exporter": "python",
      "file_extension": ".py"
    },
    "colab": {
      "name": "Plant_Patho_2021_CNN.ipynb",
      "provenance": []
    }
  },
  "cells": [
    {
      "cell_type": "markdown",
      "metadata": {
        "id": "2qCxfUU0HDPb"
      },
      "source": [
        "Downloading the preprocessed .csv file of images from google drive"
      ]
    },
    {
      "cell_type": "code",
      "metadata": {
        "execution": {
          "iopub.status.busy": "2021-08-05T06:54:27.110889Z",
          "iopub.execute_input": "2021-08-05T06:54:27.111298Z",
          "iopub.status.idle": "2021-08-05T06:54:34.626607Z",
          "shell.execute_reply.started": "2021-08-05T06:54:27.111207Z",
          "shell.execute_reply": "2021-08-05T06:54:34.625492Z"
        },
        "trusted": true,
        "id": "TTefGVm0HAuy",
        "outputId": "0bfa8c4c-e5d2-42e7-af1c-f4f3425dd1e5"
      },
      "source": [
        "! pip install gdown"
      ],
      "execution_count": null,
      "outputs": [
        {
          "output_type": "stream",
          "text": [
            "Requirement already satisfied: gdown in /opt/conda/lib/python3.7/site-packages (3.13.0)\n",
            "Requirement already satisfied: tqdm in /opt/conda/lib/python3.7/site-packages (from gdown) (4.61.1)\n",
            "Requirement already satisfied: requests[socks]>=2.12.0 in /opt/conda/lib/python3.7/site-packages (from gdown) (2.25.1)\n",
            "Requirement already satisfied: six in /opt/conda/lib/python3.7/site-packages (from gdown) (1.15.0)\n",
            "Requirement already satisfied: filelock in /opt/conda/lib/python3.7/site-packages (from gdown) (3.0.12)\n",
            "Requirement already satisfied: idna<3,>=2.5 in /opt/conda/lib/python3.7/site-packages (from requests[socks]>=2.12.0->gdown) (2.10)\n",
            "Requirement already satisfied: chardet<5,>=3.0.2 in /opt/conda/lib/python3.7/site-packages (from requests[socks]>=2.12.0->gdown) (4.0.0)\n",
            "Requirement already satisfied: urllib3<1.27,>=1.21.1 in /opt/conda/lib/python3.7/site-packages (from requests[socks]>=2.12.0->gdown) (1.26.5)\n",
            "Requirement already satisfied: certifi>=2017.4.17 in /opt/conda/lib/python3.7/site-packages (from requests[socks]>=2.12.0->gdown) (2021.5.30)\n",
            "Requirement already satisfied: PySocks!=1.5.7,>=1.5.6 in /opt/conda/lib/python3.7/site-packages (from requests[socks]>=2.12.0->gdown) (1.7.1)\n",
            "\u001b[33mWARNING: Running pip as root will break packages and permissions. You should install packages reliably by using venv: https://pip.pypa.io/warnings/venv\u001b[0m\n"
          ],
          "name": "stdout"
        }
      ]
    },
    {
      "cell_type": "code",
      "metadata": {
        "execution": {
          "iopub.status.busy": "2021-08-05T06:54:34.630660Z",
          "iopub.execute_input": "2021-08-05T06:54:34.630998Z",
          "iopub.status.idle": "2021-08-05T06:55:05.943148Z",
          "shell.execute_reply.started": "2021-08-05T06:54:34.630962Z",
          "shell.execute_reply": "2021-08-05T06:55:05.942314Z"
        },
        "trusted": true,
        "id": "VJlZXUfmHAu2",
        "outputId": "2eaf82c4-f917-4da2-e150-d82e85e7d096"
      },
      "source": [
        "import gdown; url = 'https://drive.google.com/uc?export=download&id=1lF-Y3XE-Cp2LacG8HDXLU8OWYE84x9dw' \n",
        "output = 'img.csv' \n",
        "gdown.download(url, output, quiet=False)\n"
      ],
      "execution_count": null,
      "outputs": [
        {
          "output_type": "stream",
          "text": [
            "Downloading...\n",
            "From: https://drive.google.com/uc?export=download&id=1lF-Y3XE-Cp2LacG8HDXLU8OWYE84x9dw\n",
            "To: /kaggle/working/img.csv\n",
            "2.63GB [00:11, 224MB/s] \n"
          ],
          "name": "stderr"
        },
        {
          "output_type": "execute_result",
          "data": {
            "text/plain": [
              "'img.csv'"
            ]
          },
          "metadata": {
            "tags": []
          },
          "execution_count": 2
        }
      ]
    },
    {
      "cell_type": "markdown",
      "metadata": {
        "id": "mwzfc2sDHAu4"
      },
      "source": [
        "Importing the required modules"
      ]
    },
    {
      "cell_type": "code",
      "metadata": {
        "execution": {
          "iopub.status.busy": "2021-08-05T06:55:05.944897Z",
          "iopub.execute_input": "2021-08-05T06:55:05.945256Z",
          "iopub.status.idle": "2021-08-05T06:55:12.517018Z",
          "shell.execute_reply.started": "2021-08-05T06:55:05.945218Z",
          "shell.execute_reply": "2021-08-05T06:55:12.516168Z"
        },
        "trusted": true,
        "id": "0WmeUkwuHAu5"
      },
      "source": [
        "import keras\n",
        "from keras.models import Sequential\n",
        "from keras.layers import Dense, Dropout, Flatten\n",
        "from keras.layers import Conv2D, MaxPooling2D\n",
        "from keras.utils import to_categorical\n",
        "from keras.preprocessing import image\n",
        "import numpy as np\n",
        "import pandas as pd\n",
        "import matplotlib.pyplot as plt\n",
        "from sklearn.model_selection import train_test_split\n",
        "# from tqdm import tqdm\n",
        "import tensorflow as tf\n",
        "%matplotlib inline"
      ],
      "execution_count": null,
      "outputs": []
    },
    {
      "cell_type": "markdown",
      "metadata": {
        "id": "P2MXLf9SHi83"
      },
      "source": [
        "Reading the .csv into dataframe and normlizing it by dividing it by 255"
      ]
    },
    {
      "cell_type": "code",
      "metadata": {
        "execution": {
          "iopub.status.busy": "2021-08-05T06:55:12.518603Z",
          "iopub.execute_input": "2021-08-05T06:55:12.518923Z",
          "iopub.status.idle": "2021-08-05T06:56:16.462348Z",
          "shell.execute_reply.started": "2021-08-05T06:55:12.518887Z",
          "shell.execute_reply": "2021-08-05T06:56:16.461208Z"
        },
        "trusted": true,
        "id": "HW-NnC5xHAu6"
      },
      "source": [
        "df=pd.read_csv('img.csv')"
      ],
      "execution_count": null,
      "outputs": []
    },
    {
      "cell_type": "code",
      "metadata": {
        "execution": {
          "iopub.status.busy": "2021-08-05T06:56:16.463846Z",
          "iopub.execute_input": "2021-08-05T06:56:16.464246Z",
          "iopub.status.idle": "2021-08-05T06:56:18.554482Z",
          "shell.execute_reply.started": "2021-08-05T06:56:16.464208Z",
          "shell.execute_reply": "2021-08-05T06:56:18.553509Z"
        },
        "trusted": true,
        "id": "JoIxYkX-HAu7"
      },
      "source": [
        "df=df/255"
      ],
      "execution_count": null,
      "outputs": []
    },
    {
      "cell_type": "markdown",
      "metadata": {
        "id": "_cUgSDMRJbPE"
      },
      "source": [
        "storing the images as numpy array reshaping it"
      ]
    },
    {
      "cell_type": "code",
      "metadata": {
        "execution": {
          "iopub.status.busy": "2021-08-05T06:56:18.555852Z",
          "iopub.execute_input": "2021-08-05T06:56:18.556227Z",
          "iopub.status.idle": "2021-08-05T06:56:18.560795Z",
          "shell.execute_reply.started": "2021-08-05T06:56:18.556190Z",
          "shell.execute_reply": "2021-08-05T06:56:18.559829Z"
        },
        "trusted": true,
        "id": "UJWde3MdHAu8"
      },
      "source": [
        "X=np.asarray(df)\n",
        "X=X.reshape(18632,100,100,3)"
      ],
      "execution_count": null,
      "outputs": []
    },
    {
      "cell_type": "code",
      "metadata": {
        "execution": {
          "iopub.status.busy": "2021-08-04T12:37:38.089712Z",
          "iopub.execute_input": "2021-08-04T12:37:38.090061Z",
          "iopub.status.idle": "2021-08-04T12:37:38.095333Z",
          "shell.execute_reply.started": "2021-08-04T12:37:38.090027Z",
          "shell.execute_reply": "2021-08-04T12:37:38.094415Z"
        },
        "trusted": true,
        "id": "9n9SbI1RHAvC",
        "outputId": "804de3c7-8254-4903-c866-f668986af409"
      },
      "source": [
        "X.shape"
      ],
      "execution_count": null,
      "outputs": [
        {
          "output_type": "execute_result",
          "data": {
            "text/plain": [
              "(18632, 100, 100, 3)"
            ]
          },
          "metadata": {
            "tags": []
          },
          "execution_count": 7
        }
      ]
    },
    {
      "cell_type": "markdown",
      "metadata": {
        "id": "9LnoffnMH4pZ"
      },
      "source": [
        "Reading the training .csv"
      ]
    },
    {
      "cell_type": "code",
      "metadata": {
        "execution": {
          "iopub.status.busy": "2021-08-05T06:56:18.563646Z",
          "iopub.execute_input": "2021-08-05T06:56:18.564262Z",
          "iopub.status.idle": "2021-08-05T06:56:18.594045Z",
          "shell.execute_reply.started": "2021-08-05T06:56:18.564212Z",
          "shell.execute_reply": "2021-08-05T06:56:18.593129Z"
        },
        "trusted": true,
        "id": "rV91M9hsHAvJ"
      },
      "source": [
        "df_train=pd.read_csv('../input/plant-pathology-2021-fgvc8/train.csv')"
      ],
      "execution_count": null,
      "outputs": []
    },
    {
      "cell_type": "markdown",
      "metadata": {
        "id": "QZ7jO2VGJAuw"
      },
      "source": [
        "**Splitting the labels into 6 classes and encoding it**"
      ]
    },
    {
      "cell_type": "code",
      "metadata": {
        "execution": {
          "iopub.status.busy": "2021-08-05T06:56:18.595846Z",
          "iopub.execute_input": "2021-08-05T06:56:18.596231Z",
          "iopub.status.idle": "2021-08-05T06:56:18.796040Z",
          "shell.execute_reply.started": "2021-08-05T06:56:18.596190Z",
          "shell.execute_reply": "2021-08-05T06:56:18.795128Z"
        },
        "trusted": true,
        "id": "z5z-03i6HAvK"
      },
      "source": [
        "df_train[\"labels\"]=df_train[\"labels\"].apply(lambda x:x.split(\" \"))"
      ],
      "execution_count": null,
      "outputs": []
    },
    {
      "cell_type": "code",
      "metadata": {
        "execution": {
          "iopub.status.busy": "2021-08-05T06:56:18.797790Z",
          "iopub.execute_input": "2021-08-05T06:56:18.798443Z",
          "iopub.status.idle": "2021-08-05T06:56:18.819256Z",
          "shell.execute_reply.started": "2021-08-05T06:56:18.798401Z",
          "shell.execute_reply": "2021-08-05T06:56:18.816869Z"
        },
        "trusted": true,
        "id": "nbzK0CRlHAvO"
      },
      "source": [
        "df_train['healthy']=0\n",
        "df_train['scab']=0\n",
        "df_train['complex']=0\n",
        "df_train['rust']=0\n",
        "df_train['frog_eye_leaf_spot']=0\n",
        "df_train['powdery_mildew']=0\n"
      ],
      "execution_count": null,
      "outputs": []
    },
    {
      "cell_type": "code",
      "metadata": {
        "execution": {
          "iopub.status.busy": "2021-08-05T06:56:18.832293Z",
          "iopub.execute_input": "2021-08-05T06:56:18.833203Z",
          "iopub.status.idle": "2021-08-05T06:56:27.404965Z",
          "shell.execute_reply.started": "2021-08-05T06:56:18.833149Z",
          "shell.execute_reply": "2021-08-05T06:56:27.404036Z"
        },
        "trusted": true,
        "id": "aO1OSxUuHAvP",
        "outputId": "bf45c13e-ff41-4398-d738-995069c359d6"
      },
      "source": [
        "for rown in range(0,len(df_train['labels'])):\n",
        "    for i in df_train['labels'][rown]:\n",
        "        if i == 'healthy':\n",
        "            df_train['healthy'][rown]=1\n",
        "        elif i == 'scab':\n",
        "            df_train['scab'][rown]=1\n",
        "        elif i == 'complex':\n",
        "            df_train['complex'][rown]=1\n",
        "        elif i == 'rust':\n",
        "            df_train['rust'][rown]=1\n",
        "        elif i == 'frog_eye_leaf_spot':\n",
        "            df_train['frog_eye_leaf_spot'][rown]=1\n",
        "        elif i == 'powdery_mildew':\n",
        "            df_train['powdery_mildew'][rown]=1"
      ],
      "execution_count": null,
      "outputs": [
        {
          "output_type": "stream",
          "text": [
            "/opt/conda/lib/python3.7/site-packages/ipykernel_launcher.py:4: SettingWithCopyWarning: \n",
            "A value is trying to be set on a copy of a slice from a DataFrame\n",
            "\n",
            "See the caveats in the documentation: https://pandas.pydata.org/pandas-docs/stable/user_guide/indexing.html#returning-a-view-versus-a-copy\n",
            "  after removing the cwd from sys.path.\n",
            "/opt/conda/lib/python3.7/site-packages/ipykernel_launcher.py:6: SettingWithCopyWarning: \n",
            "A value is trying to be set on a copy of a slice from a DataFrame\n",
            "\n",
            "See the caveats in the documentation: https://pandas.pydata.org/pandas-docs/stable/user_guide/indexing.html#returning-a-view-versus-a-copy\n",
            "  \n",
            "/opt/conda/lib/python3.7/site-packages/ipykernel_launcher.py:12: SettingWithCopyWarning: \n",
            "A value is trying to be set on a copy of a slice from a DataFrame\n",
            "\n",
            "See the caveats in the documentation: https://pandas.pydata.org/pandas-docs/stable/user_guide/indexing.html#returning-a-view-versus-a-copy\n",
            "  if sys.path[0] == '':\n",
            "/opt/conda/lib/python3.7/site-packages/ipykernel_launcher.py:8: SettingWithCopyWarning: \n",
            "A value is trying to be set on a copy of a slice from a DataFrame\n",
            "\n",
            "See the caveats in the documentation: https://pandas.pydata.org/pandas-docs/stable/user_guide/indexing.html#returning-a-view-versus-a-copy\n",
            "  \n",
            "/opt/conda/lib/python3.7/site-packages/ipykernel_launcher.py:10: SettingWithCopyWarning: \n",
            "A value is trying to be set on a copy of a slice from a DataFrame\n",
            "\n",
            "See the caveats in the documentation: https://pandas.pydata.org/pandas-docs/stable/user_guide/indexing.html#returning-a-view-versus-a-copy\n",
            "  # Remove the CWD from sys.path while we load stuff.\n",
            "/opt/conda/lib/python3.7/site-packages/ipykernel_launcher.py:14: SettingWithCopyWarning: \n",
            "A value is trying to be set on a copy of a slice from a DataFrame\n",
            "\n",
            "See the caveats in the documentation: https://pandas.pydata.org/pandas-docs/stable/user_guide/indexing.html#returning-a-view-versus-a-copy\n",
            "  \n"
          ],
          "name": "stderr"
        }
      ]
    },
    {
      "cell_type": "code",
      "metadata": {
        "execution": {
          "iopub.status.busy": "2021-08-04T12:38:33.068969Z",
          "iopub.execute_input": "2021-08-04T12:38:33.069317Z",
          "iopub.status.idle": "2021-08-04T12:38:33.083682Z",
          "shell.execute_reply.started": "2021-08-04T12:38:33.069281Z",
          "shell.execute_reply": "2021-08-04T12:38:33.082622Z"
        },
        "trusted": true,
        "id": "StIIMTdaHAvQ",
        "outputId": "6ab3aa09-8cad-42ed-db9d-e10e3a0af59b"
      },
      "source": [
        "df_train[['healthy','scab','complex','rust','frog_eye_leaf_spot','powdery_mildew']].sum()"
      ],
      "execution_count": null,
      "outputs": [
        {
          "output_type": "execute_result",
          "data": {
            "text/plain": [
              "healthy               4624\n",
              "scab                  5712\n",
              "complex               2151\n",
              "rust                  2077\n",
              "frog_eye_leaf_spot    4352\n",
              "powdery_mildew        1271\n",
              "dtype: int64"
            ]
          },
          "metadata": {
            "tags": []
          },
          "execution_count": 14
        }
      ]
    },
    {
      "cell_type": "code",
      "metadata": {
        "execution": {
          "iopub.status.busy": "2021-08-04T12:39:40.789175Z",
          "iopub.execute_input": "2021-08-04T12:39:40.789499Z",
          "iopub.status.idle": "2021-08-04T12:39:40.971325Z",
          "shell.execute_reply.started": "2021-08-04T12:39:40.789469Z",
          "shell.execute_reply": "2021-08-04T12:39:40.970511Z"
        },
        "trusted": true,
        "id": "UqazuskoHAvX",
        "outputId": "394e6733-e182-43f8-c0dc-d78b2067b89f"
      },
      "source": [
        "plt.imshow(X[45])"
      ],
      "execution_count": null,
      "outputs": [
        {
          "output_type": "execute_result",
          "data": {
            "text/plain": [
              "<matplotlib.image.AxesImage at 0x7fc4cf7238d0>"
            ]
          },
          "metadata": {
            "tags": []
          },
          "execution_count": 18
        },
        {
          "output_type": "display_data",
          "data": {
            "text/plain": [
              "<Figure size 432x288 with 1 Axes>"
            ],
            "image/png": "[encoded data removed]"
          },
          "metadata": {
            "tags": [],
            "needs_background": "light"
          }
        }
      ]
    },
    {
      "cell_type": "markdown",
      "metadata": {
        "id": "NRgFh_-ZJPJe"
      },
      "source": [
        "\n",
        "Storing the labels as 6 dimensional Tensors"
      ]
    },
    {
      "cell_type": "code",
      "metadata": {
        "execution": {
          "iopub.status.busy": "2021-08-05T06:56:27.407420Z",
          "iopub.execute_input": "2021-08-05T06:56:27.408117Z",
          "iopub.status.idle": "2021-08-05T06:56:27.417630Z",
          "shell.execute_reply.started": "2021-08-05T06:56:27.408073Z",
          "shell.execute_reply": "2021-08-05T06:56:27.416812Z"
        },
        "trusted": true,
        "id": "yBypK8wfHAvZ"
      },
      "source": [
        "y=np.asarray(df_train[['healthy','scab','complex','rust','frog_eye_leaf_spot','powdery_mildew']])"
      ],
      "execution_count": null,
      "outputs": []
    },
    {
      "cell_type": "code",
      "metadata": {
        "execution": {
          "iopub.status.busy": "2021-08-05T06:56:27.418889Z",
          "iopub.execute_input": "2021-08-05T06:56:27.419271Z",
          "iopub.status.idle": "2021-08-05T06:56:28.800112Z",
          "shell.execute_reply.started": "2021-08-05T06:56:27.419233Z",
          "shell.execute_reply": "2021-08-05T06:56:28.799204Z"
        },
        "trusted": true,
        "id": "cse85U7ZHAva"
      },
      "source": [
        "X_train, X_test, y_train, y_test = train_test_split(X, y,  test_size=0.25,random_state=42)"
      ],
      "execution_count": null,
      "outputs": []
    },
    {
      "cell_type": "code",
      "metadata": {
        "execution": {
          "iopub.status.busy": "2021-08-02T19:55:01.954569Z",
          "iopub.execute_input": "2021-08-02T19:55:01.955039Z",
          "iopub.status.idle": "2021-08-02T19:55:01.967156Z",
          "shell.execute_reply.started": "2021-08-02T19:55:01.954992Z",
          "shell.execute_reply": "2021-08-02T19:55:01.965883Z"
        },
        "trusted": true,
        "id": "YSfuYpzoHAvb"
      },
      "source": [
        ""
      ],
      "execution_count": null,
      "outputs": []
    },
    {
      "cell_type": "markdown",
      "metadata": {
        "id": "Jb7BMvfpIL83"
      },
      "source": [
        "Creating the Architecture of CNN"
      ]
    },
    {
      "cell_type": "code",
      "metadata": {
        "execution": {
          "iopub.status.busy": "2021-08-05T06:56:28.801531Z",
          "iopub.execute_input": "2021-08-05T06:56:28.801901Z",
          "iopub.status.idle": "2021-08-05T06:56:30.993074Z",
          "shell.execute_reply.started": "2021-08-05T06:56:28.801861Z",
          "shell.execute_reply": "2021-08-05T06:56:30.992148Z"
        },
        "trusted": true,
        "id": "JqYhfA1IHAvc"
      },
      "source": [
        "model = Sequential()\n",
        "model.add(Conv2D(filters=16, kernel_size=(5, 5), activation=\"relu\", input_shape=(100,100,3)))\n",
        "model.add(MaxPooling2D(pool_size=(2, 2)))\n",
        "model.add(Dropout(0.25))\n",
        "model.add(Conv2D(filters=32, kernel_size=(5, 5), activation='relu'))\n",
        "model.add(MaxPooling2D(pool_size=(2, 2)))\n",
        "model.add(Dropout(0.25))\n",
        "model.add(Conv2D(filters=64, kernel_size=(5, 5), activation=\"relu\"))\n",
        "model.add(MaxPooling2D(pool_size=(2, 2)))\n",
        "model.add(Dropout(0.25))\n",
        "model.add(Conv2D(filters=64, kernel_size=(5, 5), activation='relu'))\n",
        "model.add(MaxPooling2D(pool_size=(2, 2)))\n",
        "model.add(Dropout(0.25))\n",
        "model.add(Flatten())\n",
        "model.add(Dense(128, activation='relu'))\n",
        "model.add(Dropout(0.5))\n",
        "model.add(Dense(64, activation='relu'))\n",
        "model.add(Dropout(0.5))\n",
        "model.add(Dense(6, activation='sigmoid'))"
      ],
      "execution_count": null,
      "outputs": []
    },
    {
      "cell_type": "code",
      "metadata": {
        "execution": {
          "iopub.status.busy": "2021-08-05T06:56:30.994530Z",
          "iopub.execute_input": "2021-08-05T06:56:30.995086Z",
          "iopub.status.idle": "2021-08-05T06:56:31.012321Z",
          "shell.execute_reply.started": "2021-08-05T06:56:30.995046Z",
          "shell.execute_reply": "2021-08-05T06:56:31.011484Z"
        },
        "trusted": true,
        "id": "xXOPv27WHAvc",
        "outputId": "cb750b03-57b8-440d-eccb-79efb585d085"
      },
      "source": [
        "model.summary()"
      ],
      "execution_count": null,
      "outputs": [
        {
          "output_type": "stream",
          "text": [
            "Model: \"sequential\"\n",
            "_________________________________________________________________\n",
            "Layer (type)                 Output Shape              Param #   \n",
            "=================================================================\n",
            "conv2d (Conv2D)              (None, 96, 96, 16)        1216      \n",
            "_________________________________________________________________\n",
            "max_pooling2d (MaxPooling2D) (None, 48, 48, 16)        0         \n",
            "_________________________________________________________________\n",
            "dropout (Dropout)            (None, 48, 48, 16)        0         \n",
            "_________________________________________________________________\n",
            "conv2d_1 (Conv2D)            (None, 44, 44, 32)        12832     \n",
            "_________________________________________________________________\n",
            "max_pooling2d_1 (MaxPooling2 (None, 22, 22, 32)        0         \n",
            "_________________________________________________________________\n",
            "dropout_1 (Dropout)          (None, 22, 22, 32)        0         \n",
            "_________________________________________________________________\n",
            "conv2d_2 (Conv2D)            (None, 18, 18, 64)        51264     \n",
            "_________________________________________________________________\n",
            "max_pooling2d_2 (MaxPooling2 (None, 9, 9, 64)          0         \n",
            "_________________________________________________________________\n",
            "dropout_2 (Dropout)          (None, 9, 9, 64)          0         \n",
            "_________________________________________________________________\n",
            "conv2d_3 (Conv2D)            (None, 5, 5, 64)          102464    \n",
            "_________________________________________________________________\n",
            "max_pooling2d_3 (MaxPooling2 (None, 2, 2, 64)          0         \n",
            "_________________________________________________________________\n",
            "dropout_3 (Dropout)          (None, 2, 2, 64)          0         \n",
            "_________________________________________________________________\n",
            "flatten (Flatten)            (None, 256)               0         \n",
            "_________________________________________________________________\n",
            "dense (Dense)                (None, 128)               32896     \n",
            "_________________________________________________________________\n",
            "dropout_4 (Dropout)          (None, 128)               0         \n",
            "_________________________________________________________________\n",
            "dense_1 (Dense)              (None, 64)                8256      \n",
            "_________________________________________________________________\n",
            "dropout_5 (Dropout)          (None, 64)                0         \n",
            "_________________________________________________________________\n",
            "dense_2 (Dense)              (None, 6)                 390       \n",
            "=================================================================\n",
            "Total params: 209,318\n",
            "Trainable params: 209,318\n",
            "Non-trainable params: 0\n",
            "_________________________________________________________________\n"
          ],
          "name": "stdout"
        }
      ]
    },
    {
      "cell_type": "code",
      "metadata": {
        "execution": {
          "iopub.status.busy": "2021-08-05T06:56:45.177937Z",
          "iopub.execute_input": "2021-08-05T06:56:45.178290Z",
          "iopub.status.idle": "2021-08-05T06:56:45.194007Z",
          "shell.execute_reply.started": "2021-08-05T06:56:45.178258Z",
          "shell.execute_reply": "2021-08-05T06:56:45.193189Z"
        },
        "trusted": true,
        "id": "1zEUx-OdHAve"
      },
      "source": [
        "model.compile(optimizer='adam', loss='binary_crossentropy', metrics=['accuracy'])"
      ],
      "execution_count": null,
      "outputs": []
    },
    {
      "cell_type": "markdown",
      "metadata": {
        "id": "_3q7n2duIpP6"
      },
      "source": [
        "Training the model "
      ]
    },
    {
      "cell_type": "code",
      "metadata": {
        "execution": {
          "iopub.status.busy": "2021-08-05T06:57:31.354393Z",
          "iopub.execute_input": "2021-08-05T06:57:31.354809Z",
          "iopub.status.idle": "2021-08-05T06:58:15.558744Z",
          "shell.execute_reply.started": "2021-08-05T06:57:31.354773Z",
          "shell.execute_reply": "2021-08-05T06:58:15.557694Z"
        },
        "trusted": true,
        "id": "ohWMmxdbHAvt",
        "outputId": "301fbc37-e264-493c-f6a9-0ed43390d249"
      },
      "source": [
        "model.fit(X_train, y_train, epochs=10, validation_data=(X_test, y_test), batch_size=64)"
      ],
      "execution_count": null,
      "outputs": [
        {
          "output_type": "stream",
          "text": [
            "Epoch 1/10\n",
            "219/219 [==============================] - 13s 28ms/step - loss: 0.5321 - accuracy: 0.2370 - val_loss: 0.4575 - val_accuracy: 0.3003\n",
            "Epoch 2/10\n",
            "219/219 [==============================] - 3s 13ms/step - loss: 0.4593 - accuracy: 0.2802 - val_loss: 0.4319 - val_accuracy: 0.2999\n",
            "Epoch 3/10\n",
            "219/219 [==============================] - 3s 13ms/step - loss: 0.4381 - accuracy: 0.3069 - val_loss: 0.4145 - val_accuracy: 0.3521\n",
            "Epoch 4/10\n",
            "219/219 [==============================] - 3s 14ms/step - loss: 0.4228 - accuracy: 0.3424 - val_loss: 0.3885 - val_accuracy: 0.4442\n",
            "Epoch 5/10\n",
            "219/219 [==============================] - 3s 14ms/step - loss: 0.3973 - accuracy: 0.4180 - val_loss: 0.3689 - val_accuracy: 0.4828\n",
            "Epoch 6/10\n",
            "219/219 [==============================] - 3s 13ms/step - loss: 0.3779 - accuracy: 0.4618 - val_loss: 0.3380 - val_accuracy: 0.5326\n",
            "Epoch 7/10\n",
            "219/219 [==============================] - 3s 14ms/step - loss: 0.3636 - accuracy: 0.4877 - val_loss: 0.3336 - val_accuracy: 0.5406\n",
            "Epoch 8/10\n",
            "219/219 [==============================] - 3s 13ms/step - loss: 0.3462 - accuracy: 0.5206 - val_loss: 0.3228 - val_accuracy: 0.5535\n",
            "Epoch 9/10\n",
            "219/219 [==============================] - 3s 14ms/step - loss: 0.3377 - accuracy: 0.5294 - val_loss: 0.3213 - val_accuracy: 0.5646\n",
            "Epoch 10/10\n",
            "219/219 [==============================] - 3s 14ms/step - loss: 0.3258 - accuracy: 0.5559 - val_loss: 0.3236 - val_accuracy: 0.5595\n"
          ],
          "name": "stdout"
        },
        {
          "output_type": "execute_result",
          "data": {
            "text/plain": [
              "<tensorflow.python.keras.callbacks.History at 0x7fd8b1315590>"
            ]
          },
          "metadata": {
            "tags": []
          },
          "execution_count": 17
        }
      ]
    }
  ]
}